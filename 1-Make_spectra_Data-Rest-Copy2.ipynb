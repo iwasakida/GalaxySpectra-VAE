{
 "cells": [
  {
   "cell_type": "code",
   "execution_count": 2,
   "id": "fbc32451-231f-4804-af2f-2c1415dc76f0",
   "metadata": {},
   "outputs": [],
   "source": [
    "import multiprocessing\n",
    "from tqdm import tqdm\n",
    "from bs4 import BeautifulSoup\n",
    "import requests\n",
    "import matplotlib.pyplot as plt\n",
    "import re\n",
    "from astropy.io import fits\n",
    "from tqdm import tqdm\n",
    "import os\n",
    "import numpy as np\n",
    "from scipy import interpolate\n",
    "import spectres"
   ]
  },
  {
   "cell_type": "markdown",
   "id": "d8a5601d-72bf-422f-be0b-07e29c719860",
   "metadata": {},
   "source": [
    "## RestFrame"
   ]
  },
  {
   "cell_type": "code",
   "execution_count": null,
   "id": "fc1fb285-428e-4db5-a007-9597fb4425b5",
   "metadata": {},
   "outputs": [],
   "source": [
    "# Specify the directory path\n",
    "directory_path = ...\n",
    "save_directory_path = ...\n",
    "resampled_wavelength = np.linspace(\n",
    "    np.log10(3800),\n",
    "    np.log10(8400),\n",
    "    4000\n",
    ")"
   ]
  },
  {
   "cell_type": "code",
   "execution_count": 7,
   "id": "b70fb275-3422-4e73-8d64-2582969d56e1",
   "metadata": {},
   "outputs": [],
   "source": [
    "def save(i):\n",
    "    # List all files and folders in the directory\n",
    "    plates = os.listdir(directory_path)\n",
    "\n",
    "    directory_path_plate = directory_path + plates[i]\n",
    "\n",
    "    filenames = os.listdir(directory_path)\n",
    "    \n",
    "    pattern = r\"spec-(\\d+)-(\\d+)-(\\d+)\\.fits\"\n",
    "    \n",
    "    for filename in filenames: \n",
    "        # Search for the pattern in the filename\n",
    "        match = re.search(pattern, filename)\n",
    "\n",
    "        if match:\n",
    "            # Extract the three numbers from the matched groups\n",
    "            plate = int( match.group(1) )\n",
    "            mjd = int( match.group(2) )\n",
    "            fiber = int( match.group(3) )\n",
    "        else:\n",
    "            print('not match',filename)\n",
    "            \n",
    "        file_path = directory_path_plate + filename\n",
    "\n",
    "        hdulist = fits.open(file_path)\n",
    "        redshift = hdulist[2].data['Z'][0]\n",
    "        if redshift < 0:\n",
    "            redshift = 0\n",
    "        elif redshift > 0.1:\n",
    "            continue\n",
    "    \n",
    "        save_path_spec = save_directory_path + f\"/plate{plate}/spec-{plate}-{mjd}-{fiber}.npy\"\n",
    "        save_path_error = save_directory_path + f\"/plate{plate}/error-{plate}-{mjd}-{fiber}.npy\"\n",
    "        save_path_mask = save_directory_path + f\"/plate{plate}/mask-{plate}-{mjd}-{fiber}.npy\"\n",
    "        \n",
    "        if os.path.exists(save_path_spec) and os.path.exists(save_path_error):\n",
    "            continue\n",
    "        \n",
    "        galaxy_class = hdulist[2].data['class'][0]\n",
    "        if not galaxy_class == 'GALAXY':\n",
    "            continue\n",
    "        \n",
    "        # load data\n",
    "        flux = hdulist[1].data['flux']\n",
    "        ivar = hdulist[1].data['ivar']\n",
    "        wave = hdulist[1].data['loglam']\n",
    "        # sky = hdulist[1].data['sky']\n",
    "        # and_mask = hdulist[1].data['and_mask']\n",
    "        # or_mask = hdulist[1].data['or_mask']\n",
    "        # model_flux = hdulist[1].data['model']\n",
    "        # Find indices of large error points\n",
    "        \n",
    "        try:\n",
    "            ivar[ivar==0] = ivar[ivar!=0].min() \n",
    "        except:\n",
    "            pass\n",
    "\n",
    "        rest_wavelength = np.log10( 10**wave / ( redshift + 1 ) )\n",
    "        error = np.sqrt(1.0 / ivar)\n",
    "\n",
    "\n",
    "        # Resample the spectrum to 4000 data points in equal intervals using spectres\n",
    "        resampled_flux = spectres.spectres(\n",
    "            resampled_wavelength,\n",
    "            rest_wavelength,  # The original wavelength array\n",
    "            flux,  # The original flux array\n",
    "            spec_errs=error,  # Optional: the original error array\n",
    "            fill=np.nan,  # Optional: the value to fill extrapolated data points with.,\n",
    "            verbose=False,\n",
    "        )\n",
    "        \n",
    "        new_flux = resampled_flux[0]\n",
    "        new_error = resampled_flux[1]\n",
    "\n",
    "        # Define a threshold for large errors\n",
    "        error_threshold = np.nanpercentile(error, 95)  # Adjust the percentile value as needed\n",
    "\n",
    "        # Find indices of large error points\n",
    "        mask = compute_mask(error,large_err=error_threshold,spectrum=flux)\n",
    "\n",
    "        np.save(save_path_spec,new_flux)\n",
    "        np.save(save_path_error,new_error)\n",
    "        np.save(save_path_mask,mask)"
   ]
  },
  {
   "cell_type": "code",
   "execution_count": null,
   "id": "12fe7219-05be-4918-996e-585f7713edba",
   "metadata": {},
   "outputs": [
    {
     "name": "stderr",
     "output_type": "stream",
     "text": [
      "/tmp/ipykernel_42825/3573525817.py:69: RuntimeWarning: divide by zero encountered in divide\n",
      "  error = np.sqrt(1.0 / ivar)\n",
      "/home/daikiiwasaki/yes/envs/torch2_env/lib/python3.10/site-packages/numpy/lib/function_base.py:4573: RuntimeWarning: invalid value encountered in subtract\n",
      "  diff_b_a = subtract(b, a)\n"
     ]
    }
   ],
   "source": [
    "# Create a ThreadPoolExecutor\n",
    "import concurrent.futures\n",
    "with concurrent.futures.ThreadPoolExecutor(max_workers=48) as executor:\n",
    "    # Use list comprehension to create a list of tasks to execute\n",
    "    # Each task is a call to download_image with an index and a pair of coordinates\n",
    "    tasks = [ executor.submit(save, i) for i in range(0,len(plates)) ]\n",
    "\n",
    "    # Wait for all tasks to complete\n",
    "    for future in concurrent.futures.as_completed(tasks):\n",
    "        # If the task raised an exception, it will be re-raised here\n",
    "        future.result()"
   ]
  },
  {
   "cell_type": "code",
   "execution_count": null,
   "id": "149b1aa1-cd8b-46f1-813d-3db05e87ff66",
   "metadata": {},
   "outputs": [],
   "source": []
  }
 ],
 "metadata": {
  "kernelspec": {
   "display_name": "torch2_env",
   "language": "python",
   "name": "torch2_env"
  },
  "language_info": {
   "codemirror_mode": {
    "name": "ipython",
    "version": 3
   },
   "file_extension": ".py",
   "mimetype": "text/x-python",
   "name": "python",
   "nbconvert_exporter": "python",
   "pygments_lexer": "ipython3",
   "version": "3.10.12"
  }
 },
 "nbformat": 4,
 "nbformat_minor": 5
}
