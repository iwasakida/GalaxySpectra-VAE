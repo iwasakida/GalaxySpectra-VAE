{
 "cells": [
  {
   "cell_type": "code",
   "execution_count": 1,
   "id": "e710115b-0be8-4eea-bc0f-ccc411b439bb",
   "metadata": {},
   "outputs": [],
   "source": [
    "import requests\n",
    "from bs4 import BeautifulSoup\n",
    "from astropy.io import fits\n",
    "import urllib.request\n",
    "import re\n",
    "import os\n",
    "import numpy as np"
   ]
  },
  {
   "cell_type": "code",
   "execution_count": 2,
   "id": "7dd31dd0",
   "metadata": {},
   "outputs": [
    {
     "name": "stdout",
     "output_type": "stream",
     "text": [
      "61\n"
     ]
    }
   ],
   "source": [
    "url = \"https://data.sdss.org/sas/dr17/sdss/spectro/redux/26/spectra/\"\n",
    "\n",
    "# Send a GET request to the URL and retrieve the HTML content\n",
    "response = requests.get(url)\n",
    "html_content = response.content\n",
    "\n",
    "# Create a BeautifulSoup object to parse the HTML\n",
    "soup = BeautifulSoup(html_content, 'html.parser')\n",
    "\n",
    "# Find all the <a> tags and filter URLs with the desired format\n",
    "urls = [a['href'] for a in soup.find_all('a') if a['href'].endswith('/') and a['href'].strip('/').isdigit()]\n",
    "    \n",
    "print(len(url))"
   ]
  },
  {
   "cell_type": "code",
   "execution_count": 4,
   "id": "aeed322d",
   "metadata": {},
   "outputs": [
    {
     "data": {
      "text/plain": [
       "2467"
      ]
     },
     "execution_count": 4,
     "metadata": {},
     "output_type": "execute_result"
    }
   ],
   "source": [
    "len(urls)"
   ]
  },
  {
   "cell_type": "code",
   "execution_count": 9,
   "id": "d774ba16",
   "metadata": {},
   "outputs": [],
   "source": [
    "import urllib.request\n",
    "# Define the regex pattern to match three numbers separated by hyphens\n",
    "pattern = r\"spec-(\\d+)-(\\d+)-(\\d+)\\.fits\"\n",
    "\n",
    "def download_spectra(i):\n",
    "    base = 0\n",
    "    url = f\"https://data.sdss.org/sas/dr17/sdss/spectro/redux/26/spectra/{urls[i]}\"\n",
    "\n",
    "    # Send a GET request to the URL and retrieve the HTML content\n",
    "    response = requests.get(url)\n",
    "    html_content = response.content\n",
    "\n",
    "    # Create a BeautifulSoup object to parse the HTML\n",
    "    soup = BeautifulSoup(html_content, 'html.parser')\n",
    "\n",
    "    # Find all the <a> tags that contain the filenames\n",
    "    filename_tags = soup.find_all('a')\n",
    "\n",
    "    # Extract the filenames from the <a> tags\n",
    "    filenames = [tag.get('href') for tag in filename_tags]\n",
    "\n",
    "    filenames = [filename for filename in filenames if filename.endswith(\".fits\")]\n",
    "    \n",
    "    for filename in filenames:\n",
    "        \n",
    "        save_path = f'test/{filename}' #Replace your path\n",
    "\n",
    "        file_url = url + filename\n",
    "\n",
    "        with fits.open(file_url) as hdulist:\n",
    "            if not hdulist[2].data['class'] == 'STAR':\n",
    "                urllib.request.urlretrieve(file_url, save_path)"
   ]
  },
  {
   "cell_type": "code",
   "execution_count": null,
   "id": "a4a22bf6",
   "metadata": {
    "scrolled": true,
    "tags": []
   },
   "outputs": [
    {
     "name": "stdout",
     "output_type": "stream",
     "text": [
      "0\n",
      "0\n",
      "0\n",
      "0\n",
      "0\n",
      "0\n",
      "0\n",
      "0\n",
      "0\n",
      "0\n",
      "0\n"
     ]
    }
   ],
   "source": [
    "# Create a ThreadPoolExecutor\n",
    "import concurrent.futures\n",
    "with concurrent.futures.ThreadPoolExecutor(max_workers=36) as executor:\n",
    "    # Use list comprehension to create a list of tasks to execute\n",
    "    # Each task is a call to download_image with an index and a pair of coordinates\n",
    "    tasks = [ executor.submit(download_spectra, i) for i in range(0,len(urls)) ]\n",
    "\n",
    "    # Wait for all tasks to complete\n",
    "    for future in concurrent.futures.as_completed(tasks):\n",
    "        # If the task raised an exception, it will be re-raised here\n",
    "        future.result()"
   ]
  },
  {
   "cell_type": "code",
   "execution_count": null,
   "id": "0296ed77",
   "metadata": {},
   "outputs": [],
   "source": []
  }
 ],
 "metadata": {
  "kernelspec": {
   "display_name": "torch2_env",
   "language": "python",
   "name": "torch2_env"
  },
  "language_info": {
   "codemirror_mode": {
    "name": "ipython",
    "version": 3
   },
   "file_extension": ".py",
   "mimetype": "text/x-python",
   "name": "python",
   "nbconvert_exporter": "python",
   "pygments_lexer": "ipython3",
   "version": "3.10.12"
  }
 },
 "nbformat": 4,
 "nbformat_minor": 5
}
